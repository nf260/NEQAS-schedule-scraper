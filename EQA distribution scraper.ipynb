{
 "cells": [
  {
   "cell_type": "code",
   "execution_count": null,
   "metadata": {},
   "outputs": [],
   "source": [
    "import os\n",
    "import requests\n",
    "from urllib.parse import urljoin\n",
    "from bs4 import BeautifulSoup"
   ]
  },
  {
   "cell_type": "markdown",
   "metadata": {},
   "source": [
    "# Download files\n",
    "\n",
    "Downlaods all PDF files from a url"
   ]
  },
  {
   "cell_type": "code",
   "execution_count": null,
   "metadata": {},
   "outputs": [],
   "source": [
    "#Create folder, if one doesn't exist\n",
    "folder_location = '.\\PDF schedules'\n",
    "if not os.path.exists(folder_location):os.mkdir(folder_location)"
   ]
  },
  {
   "cell_type": "code",
   "execution_count": null,
   "metadata": {},
   "outputs": [],
   "source": [
    "url = \"https://birminghamquality.org.uk/schedules/\"\n",
    "\n",
    "response = requests.get(url)\n",
    "soup= BeautifulSoup(response.text, \"html.parser\")     \n",
    "for link in soup.select(\"a[href$='.pdf']\"):\n",
    "    #Name the pdf files using the last portion of each link which are unique in this case\n",
    "    filename = os.path.join(folder_location,link['href'].split('/')[-1])\n",
    "    with open(filename, 'wb') as f:\n",
    "        f.write(requests.get(urljoin(url,link['href'])).content)"
   ]
  },
  {
   "cell_type": "markdown",
   "metadata": {},
   "source": [
    "# Extract from PDF files\n",
    "\n",
    "Need to delete a few non-schedule PDF files for this to work.\n",
    "\n",
    "Extracts schedule for each scheme and saves as csv files"
   ]
  },
  {
   "cell_type": "code",
   "execution_count": null,
   "metadata": {},
   "outputs": [],
   "source": [
    "import PyPDF2\n",
    "import re\n",
    "import pandas as pd"
   ]
  },
  {
   "cell_type": "code",
   "execution_count": null,
   "metadata": {
    "scrolled": true
   },
   "outputs": [],
   "source": [
    "ScheduleRegex = re.compile(r'''\n",
    "                       (\\d{1,4}) #Distribution\n",
    "                       (\\d\\d\\s\\w\\w\\w\\s\\d\\d) #Dispatch date\n",
    "                       (\\w\\s[:]\\s\\d{1,2}) # Code\n",
    "                       (\\d\\d\\s\\w\\w\\w\\s\\d\\d) #Return date\n",
    "                       ''',re.VERBOSE)\n",
    "\n",
    "SchemeRegex = re.compile(\"for (.*) Birmingham Quality is part of the\")\n",
    "SchemeRegex2 = re.compile(\"Birmingham Quality (.*) Birmingham Quality is part\")\n",
    "df = pd.DataFrame()\n",
    "\n",
    "for filename in os.listdir(folder_location):\n",
    "    if not (filename.endswith('CALENDAR.pdf')):\n",
    "        continue # skip non-PDF files\n",
    "\n",
    "    pdfFileObj = open(os.path.join(folder_location,filename), 'rb')\n",
    "    pdfReader = PyPDF2.PdfFileReader(pdfFileObj)\n",
    "    print('Opening...', filename)\n",
    "    \n",
    "    pageObj = pdfReader.getPage(0)\n",
    "    text = pageObj.extractText()\n",
    "\n",
    "    extracted_text = ScheduleRegex.findall(text)\n",
    "\n",
    "    schedule = pd.DataFrame(extracted_text,columns=['Distribution','Dispatch date','Code','Return date'])\n",
    "    try:\n",
    "        schedule['Scheme'] = SchemeRegex.findall(text)[0]\n",
    "    except:\n",
    "        try:\n",
    "            schedule['Scheme'] = SchemeRegex2.findall(text)[0]\n",
    "        except:\n",
    "            schedule['Scheme'] = 'Unknown'\n",
    "    schedule = schedule.drop(['Code'],axis=1)\n",
    "    \n",
    "    df = pd.concat([df,schedule],ignore_index=True)\n",
    "    \n",
    "df.to_csv('schedule.csv', index=False)"
   ]
  }
 ],
 "metadata": {
  "kernelspec": {
   "display_name": "Python 3",
   "language": "python",
   "name": "python3"
  },
  "language_info": {
   "codemirror_mode": {
    "name": "ipython",
    "version": 3
   },
   "file_extension": ".py",
   "mimetype": "text/x-python",
   "name": "python",
   "nbconvert_exporter": "python",
   "pygments_lexer": "ipython3",
   "version": "3.7.9"
  }
 },
 "nbformat": 4,
 "nbformat_minor": 4
}
